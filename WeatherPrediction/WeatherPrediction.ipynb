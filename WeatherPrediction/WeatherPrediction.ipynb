{
 "cells": [
  {
   "cell_type": "markdown",
   "metadata": {},
   "source": [
    "# Weather prediction\n"
   ]
  },
  {
   "cell_type": "markdown",
   "metadata": {},
   "source": [
    "## Part 1 - Data\n"
   ]
  },
  {
   "cell_type": "markdown",
   "metadata": {},
   "source": [
    "### Problem to solve\n",
    "\n",
    "The issue I aim to address is the prediction of weather conditions, constituting a regression problem. The objective is to forecast the upcoming week's weather, with a specific focus on temperature. To accomplish this, I will utilize a CSV file encompassing diverse parameters, including temperature, among others. Additionally, the file will specify the prevailing weather conditions on each corresponding day. The dataset will be segmented into three categories:\n",
    "\n",
    "- Training data.\n",
    "- Validation data.\n",
    "- Test data.\n"
   ]
  },
  {
   "cell_type": "markdown",
   "metadata": {},
   "source": [
    "### Data Source\n",
    "\n",
    "The data source employed for this prediction is a CSV file acquired from the renowned website \"Kaggle.\" Kaggle serves as a platform where diverse datasets can be accessed for various purposes. Users can evaluate the volume of available data and the popularity of specific sources, as indicated by the number of votes. Given that Kaggle allows open data contributions, it is imperative to exercise caution and scrutiny regarding the nature and quality of the data. I selected this particular dataset due to its substantial number of upvotes, signifying widespread utilization and satisfaction among users.\n",
    "\n",
    "The URL for my specific dataset is: [https://www.kaggle.com/datasets/ananthr1/weather-prediction](https://www.kaggle.com/datasets/ananthr1/weather-prediction)\n"
   ]
  },
  {
   "cell_type": "markdown",
   "metadata": {},
   "source": [
    "### The imports\n",
    "\n",
    "These are the imports that will be needed to use this weather prediction:\n"
   ]
  },
  {
   "cell_type": "code",
   "execution_count": null,
   "metadata": {},
   "outputs": [],
   "source": [
    "import pandas as pd\n",
    "import os"
   ]
  },
  {
   "cell_type": "markdown",
   "metadata": {},
   "source": [
    "Ensure that you have these libraries installed in your Python environment before running the code.\n"
   ]
  },
  {
   "cell_type": "markdown",
   "metadata": {},
   "source": [
    "### Load data\n",
    "\n",
    "The initial step is to load the data from the CSV file in the \"Data\" folder. We will store the data in a variable named \"Data.\"\n"
   ]
  },
  {
   "cell_type": "code",
   "execution_count": null,
   "metadata": {},
   "outputs": [],
   "source": [
    "data_file_path = os.path.abspath(\"./Data/seattle-weather.csv\")\n",
    "data = pd.read_csv(data_file_path)"
   ]
  },
  {
   "cell_type": "markdown",
   "metadata": {},
   "source": [
    "### Info about the data\n",
    "\n",
    "When the data is read, I then provide an overview of the data cells, displaying the following information:\n",
    "\n",
    "- Column names.\n",
    "- The count of null or non-null values in each row.\n",
    "- The data type of each cell, such as string or float, for example.\n"
   ]
  },
  {
   "cell_type": "markdown",
   "metadata": {},
   "source": [
    "#### Description of each column\n",
    "\n",
    "- **Column name**\n",
    "  <br>\n",
    "  Provides the name of the column.\n",
    "\n",
    "* **Non-null count**\n",
    "  <br>\n",
    "  Indicates the number of rows with a value in the column.\n",
    "\n",
    "* **Null count**\n",
    "  <br>\n",
    "  Specifies the number of rows without any value in the column.\n",
    "\n",
    "* **Data type**\n",
    "  <br>\n",
    "  Specifies the expected data type for the column.\n"
   ]
  },
  {
   "cell_type": "code",
   "execution_count": null,
   "metadata": {},
   "outputs": [],
   "source": [
    "data_columns_info = pd.DataFrame({\n",
    "    'Non-Null Count': data.count(),\n",
    "    'Null Count': data.isnull().sum(),\n",
    "    'DataType': data.dtypes\n",
    "}).reset_index().rename(columns={'index': 'Column Name'})\n",
    "\n",
    "data_columns_info"
   ]
  },
  {
   "cell_type": "markdown",
   "metadata": {},
   "source": [
    "#### Raw data\n",
    "\n",
    "This is an example view of the raw, unprocessed data.\n"
   ]
  },
  {
   "cell_type": "code",
   "execution_count": null,
   "metadata": {},
   "outputs": [],
   "source": [
    "data"
   ]
  },
  {
   "cell_type": "markdown",
   "metadata": {},
   "source": [
    "#### Key values about the data\n",
    "\n",
    "This view presents key statistical values for the dataset.\n",
    "The following metrics are included:\n",
    "\n",
    "- **Count**\n",
    "  <br>\n",
    "  Represents the total count of values in the column.\n",
    "\n",
    "* **Mean**\n",
    "  <br>\n",
    "  Indicates the average value for the column.\n",
    "\n",
    "* **Std**\n",
    "  <br>\n",
    "  Denotes the standard deviation for the column.\n",
    "\n",
    "* **Min**\n",
    "  <br>\n",
    "  Represents the minimum value in the column.\n",
    "\n",
    "* **25%**\n",
    "  <br>\n",
    "  The 25th percentile, also known as the first quartile, indicates the value below which 25% of the data falls.\n",
    "\n",
    "* **50%**\n",
    "  <br>\n",
    "  The 50th percentile, or the median, represents the middle value of the dataset when it is sorted in ascending order.\n",
    "\n",
    "* **75%**\n",
    "  <br>\n",
    "  The 75th percentile, or the third quartile, indicates the value below which 75% of the data falls.\n",
    "\n",
    "* **Max**\n",
    "  <br>\n",
    "  Represents the maximum value in the column.\n"
   ]
  },
  {
   "cell_type": "code",
   "execution_count": null,
   "metadata": {},
   "outputs": [],
   "source": [
    "data.describe().reset_index().rename(columns={'index': 'Key'})"
   ]
  },
  {
   "cell_type": "markdown",
   "metadata": {},
   "source": [
    "### Cleaning the data\n",
    "\n",
    "As seen above, there are two columns that are of type 'object.' However, upon inspecting the raw data, it becomes evident that they do not necessarily need to be of type 'object.' Consequently, I am converting the date column to the 'datetime64ns' type and the weather column to the 'string' type.\n",
    "\n",
    "The rationale behind this decision is to facilitate later stages of the process, making it easier to discern and handle the data within each column.\n"
   ]
  },
  {
   "cell_type": "code",
   "execution_count": null,
   "metadata": {},
   "outputs": [],
   "source": [
    "data['date'] = data['date'].astype(\"datetime64[ns]\")\n",
    "data['weather'] = data['weather'].astype(\"string\")"
   ]
  },
  {
   "cell_type": "markdown",
   "metadata": {},
   "source": [
    "#### Raw data (After the cleaning part)\n",
    "\n",
    "Now, we can observe that the data remains in the same format. This confirmation validates that the switch in data types did not impact the actual data.\n"
   ]
  },
  {
   "cell_type": "code",
   "execution_count": null,
   "metadata": {},
   "outputs": [],
   "source": [
    "data"
   ]
  },
  {
   "cell_type": "markdown",
   "metadata": {},
   "source": [
    "#### Description of each column (After the cleaning part)\n",
    "\n",
    "In this section, we can observe the successful execution of our data type conversion. The affected columns now possess the correct data types.\n",
    "\n",
    "- **Column name**\n",
    "  <br>\n",
    "  Provides the name of the column.\n",
    "\n",
    "* **Non-null count**\n",
    "  <br>\n",
    "  Indicates the number of rows with a value in the column.\n",
    "\n",
    "* **Null count**\n",
    "  <br>\n",
    "  DSpecifies the number of rows without any value in the column.\n",
    "\n",
    "* **Data Type**\n",
    "  <br>\n",
    "  Specifies the expected data type for the column.\n"
   ]
  },
  {
   "cell_type": "code",
   "execution_count": null,
   "metadata": {},
   "outputs": [],
   "source": [
    "data_columns_info = pd.DataFrame({\n",
    "    'Non-Null Count': data.count(),\n",
    "    'Null Count': data.isnull().sum(),\n",
    "    'DataType': data.dtypes\n",
    "}).reset_index().rename(columns={'index': 'Column Name'})\n",
    "\n",
    "data_columns_info"
   ]
  },
  {
   "cell_type": "markdown",
   "metadata": {},
   "source": [
    "## Part 2 - Not started yet\n"
   ]
  }
 ],
 "metadata": {
  "kernelspec": {
   "display_name": "Python 3",
   "language": "python",
   "name": "python3"
  },
  "language_info": {
   "codemirror_mode": {
    "name": "ipython",
    "version": 3
   },
   "file_extension": ".py",
   "mimetype": "text/x-python",
   "name": "python",
   "nbconvert_exporter": "python",
   "pygments_lexer": "ipython3",
   "version": "3.11.6"
  }
 },
 "nbformat": 4,
 "nbformat_minor": 2
}
